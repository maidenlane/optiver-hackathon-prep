{
  "nbformat": 4,
  "nbformat_minor": 0,
  "metadata": {
    "kernelspec": {
      "display_name": "Python 3",
      "language": "python",
      "name": "python3"
    },
    "language_info": {
      "codemirror_mode": {
        "name": "ipython",
        "version": 3
      },
      "file_extension": ".py",
      "mimetype": "text/x-python",
      "name": "python",
      "nbconvert_exporter": "python",
      "pygments_lexer": "ipython3",
      "version": "3.7.3"
    },
    "colab": {
      "name": "Market-making the OPTI-ETF - Optiver's Ready Trader One",
      "provenance": [],
      "collapsed_sections": []
    }
  },
  "cells": [
    {
      "cell_type": "markdown",
      "metadata": {
        "id": "Tji1aCltFuzG",
        "colab_type": "text"
      },
      "source": [
        "# Market-making the OPTI-ETF - Optiver's Ready Trader One 2020\n",
        "\n",
        "### Team Strategists:\n",
        "\n",
        "- Sam Breznikar - <sam@sdbgroup.io> \n",
        "\n",
        "- Nhi Huynh* - <uyennhihuynhluu@gmail.com>  **withdrew from competition in Round 1*"
      ]
    },
    {
      "cell_type": "markdown",
      "metadata": {
        "id": "WJuH-TjUscKf",
        "colab_type": "text"
      },
      "source": [
        "![Tournament 2 scoreboard](https://drive.google.com/uc?export=view&id=1xENmTDbLZEM9lRGeCJN_CPnzsEk9p4fh)"
      ]
    },
    {
      "cell_type": "markdown",
      "metadata": {
        "id": "WvD8yrEZsfho",
        "colab_type": "text"
      },
      "source": [
        "*Online Tournament 2 scoreboard pictured above.*"
      ]
    },
    {
      "cell_type": "markdown",
      "metadata": {
        "id": "TjJhEgqmovCJ",
        "colab_type": "text"
      },
      "source": [
        "\n",
        "\n",
        "---\n",
        "\n"
      ]
    },
    {
      "cell_type": "markdown",
      "metadata": {
        "id": "7ucDY-_cF4fy",
        "colab_type": "text"
      },
      "source": [
        "## Introduction\n",
        "\n",
        "This notebook documents our attempt to create an optimal (most profitable) trading bot for market-making the OPTI-ETF, the synthetic financial instrument traded in Optiver's [Ready Trader One](https://readytraderone.com.au/) competition.\n",
        "\n",
        "The final and best iteration of our market making model was [VolumeAdjustN15_v3](https://github.com/s-brez/optiver-hackathon-prep/blob/master/Round%203/models/VolumeAdjustN15_v3.py). It used a naive average of levels 1-5 of the orderbook as a theoretical fair price, and adjusted its quote volume based on its current position to control inventory. \n",
        "\n",
        "Whilst the bot was decent enough to place #4 in tournament 2, the competition grew strong, and [VolumeAdjustN15_v3](https://github.com/s-brez/optiver-hackathon-prep/blob/master/Round%203/models/VolumeAdjustN15_v3.py) did not carry us to the finals.\n",
        "\n",
        "The following outlines how we reached the final iteration of the bot, and our testing process along the way.\n"
      ]
    },
    {
      "cell_type": "markdown",
      "metadata": {
        "id": "cHKomC1CoxFv",
        "colab_type": "text"
      },
      "source": [
        "\n",
        "\n",
        "---\n",
        "\n"
      ]
    },
    {
      "cell_type": "markdown",
      "metadata": {
        "id": "wL3xWGQ5yQ13",
        "colab_type": "text"
      },
      "source": [
        "##Contents\n",
        "\n",
        "**1 - Overview** - Details about competition structure, rules and other assumptions.\n",
        "\n",
        "**2 - Data** - Explanation of the data used, and how the data was prepared and used for analysis.\n",
        "\n",
        "**3 - Market-making models** - The pricing and inventory managment hypotheses (trading strategies) we tested, a look into the data produced during the testing and the live events, how it relates to our models, round outcomes and other observations.\n",
        "\n",
        "**4 - Competitor analysis** - Analysis and reverse-engineering of the behaviour of better-performing competitors.\n",
        "\n",
        "**5 - Conclusions** - Ultimate findings and future improvements."
      ]
    },
    {
      "cell_type": "markdown",
      "metadata": {
        "id": "qBBoUmr2oyKt",
        "colab_type": "text"
      },
      "source": [
        "\n",
        "\n",
        "---\n",
        "\n"
      ]
    },
    {
      "cell_type": "markdown",
      "metadata": {
        "id": "mgfGehHCxG_D",
        "colab_type": "text"
      },
      "source": [
        "## 1 - Overview\n",
        "\n",
        "### Competition\n",
        "\n",
        "Ready Trader One was held in 4 stages, with 3 Online Tournaments followed by a grand final. Competing teams submitted their best model in the form an `autotrader.py` file to be pitted against other participants in a series of 8v8 matches in three Online Tournaments. A log file of market events was provided to competitors after each Online Tournament. \n",
        "\n",
        "After each Online Tournament, we analysed the events in each log file, made adjustments to existing models or tested new models based on our findings, then tested our new/adjusted models on a testing set of 20 or more simulated matches with the new models competing against our previous models.\n",
        "\n",
        "### Rules\n",
        "\n",
        "- Wash trading (trading with yourself) is forbidden. Orders that would be wash trades are rejected by the exchange.\n",
        "- 20 actions (insert, modify or cancel orders) per second permitted only. Breach results in player disconnect.\n",
        "- +/- 100 lot position limit. Breach results in player disconnect.\n",
        "- 10 active orders only may be placed at any time. All inserted orders in excess of this limit are rejected.\n",
        "- 200 lot active volume limit. I.e. the total volume of all the players orders must not exceed 200. All inserted orders which would cause this limit to be exceeded are rejected.\n",
        "\n",
        "### Assumptions\n",
        "\n",
        "- Postions taken the ETF are automatically and instantly hedged in the future, with no fees (amazing!). "
      ]
    },
    {
      "cell_type": "markdown",
      "metadata": {
        "id": "gAxogzZDozLJ",
        "colab_type": "text"
      },
      "source": [
        "\n",
        "\n",
        "---\n",
        "\n"
      ]
    },
    {
      "cell_type": "markdown",
      "metadata": {
        "id": "vtFetIAdMuUv",
        "colab_type": "text"
      },
      "source": [
        "## 2 - Data\n",
        "Data used to make decisions about our models during the competiton consisted of multiple test match results, generated with the exchange simulator provided by Optiver. Each dataset is comprised of the results of multiple runs of the simulator, ran with our best models for that stage of the competition. \n",
        "\n",
        "Test data and models can be found here:\n",
        "\n",
        "Online Tournament 1: [https://github.com/s-brez/optiver-hackathon-prep/tree/master/Round%201](https://github.com/s-brez/optiver-hackathon-prep/tree/master/Round%201)\n",
        "\n",
        "Online Tournament 2: [https://github.com/s-brez/optiver-hackathon-prep/tree/master/Round%202](https://github.com/s-brez/optiver-hackathon-prep/tree/master/Round%202)\n",
        "\n",
        "Online Tournament 3: [https://github.com/s-brez/optiver-hackathon-prep/tree/master/Round%203](https://github.com/s-brez/optiver-hackathon-prep/tree/master/Round%203)\n",
        "\n"
      ]
    },
    {
      "cell_type": "markdown",
      "metadata": {
        "id": "Dx2Avnn9o1t1",
        "colab_type": "text"
      },
      "source": [
        "\n",
        "\n",
        "---\n",
        "\n"
      ]
    },
    {
      "cell_type": "markdown",
      "metadata": {
        "id": "HEyhnL8lof9f",
        "colab_type": "text"
      },
      "source": [
        "## 3 - Market-Making models (trading strategies)\n",
        "\n",
        "### Model candidates for Online Tournament 1\n",
        "\n",
        "All models tested in this round were based on the price-skewing inventory management model provided by Optiver, `Example2`.\n",
        "\n",
        "**Example2:** An inventory-aware model that manages its position by skewing the price of its bid and ask quotes as it accrues long or short lots. Example2 has no theoretical price calculation, simply placing quotes at the best current bid and ask. The cost of managing inventory this way, is that profitable trades are missed if the trader accrues a large position in the other direction, as the opposing quote will be moved away from the current best price. \n",
        "\n",
        "**Symmetric-Naive:** The same as Example2, but with added mechanisms to ensure hard limits are never breached, such as the 20 actions per-second limit.\n",
        "\n",
        "**Symmetric-Naive Clone:** Same as Symmetric-Naive, added only to ensure there are 8 competitors for realistic testing.\n",
        "\n",
        "**Naive average of orderbook levels 1-2:** Same as Symetric-Naive, but with an added theoretical price calculation where theo price = average of levels 1 and 2 of the orderbook. Bid and ask quotes are then placed at the theo price +- one minimum unit ($1), and skewed as position size increases.\n",
        "\n",
        "**Weighted average of orderbook levels 1-2:** Same as Symetric-Naive, but with an added theoretical price calculation, where theo price = L1: 60% L2 40% weighted average of levels 1 and 2 of the orderbook. Bid and ask quotes are then placed at the theo price +- one minimum unit ($1), and skewed as position size increases.\n",
        "\n",
        "**Naive average of orderbook levels 1-3:** Same as Symetric-Naive, but with an added theoretical price calculation where theo price = average of levels 1, 2 and 3 of the orderbook. Bid and ask quotes are then placed at the theo price +- one minimum unit ($1), and skewed as position size increases.\n",
        "\n",
        "**Weighted average of orderbook levels 1-3:** Same as Symetric-Naive, but with an added theoretical price calculation, where theo price = L1: 50% L2: 35% L3: 15% weighted average of levels 1, 2 and 3 of the orderbook. Bid and ask quotes are then placed at the theo price +- one minimum unit ($1), and skewed as position size increases.\n",
        "\n",
        "**Weighted average of orderbook levels 1-5:** Same as Symetric-Naive, but with an added theoretical price calculation, where theo price = L1: 37.5% L2: 27.5% L3: 15% L4: 10% L5: 5% weighted average of levels 1, 2, 3, 4 and 5 of the orderbook. Bid and ask quotes are then placed at the theo price +- one minimum unit ($1), and skewed as position size increases.\n"
      ]
    },
    {
      "cell_type": "markdown",
      "metadata": {
        "id": "qQmg6WEWu4W5",
        "colab_type": "text"
      },
      "source": [
        "### Model selection for Online Tournament 1\n",
        "\n",
        "20 test matches were ran with the above 8 models. Figures shown are the average of 20 matches. Figures were generated by running [this script](https://github.com/s-brez/optiver-hackathon-prep/blob/master/Round%201/testing%20data%20for%20round%201/test%20data%20-%20day%201/aggregate_scoreboard.py).\n",
        "\n",
        "|    Model  | SymmNaive   |    Example2   |SymmNaiveClone|L12AverageNaive|\n",
        "|-----------|-------------|---------------|--------------|---------------|\n",
        "|PnL:       |4.519        |479.913        |4.4.469       |2284.11        |\n",
        "\n",
        "|    Model  |L12AverageWtd|L13AverageNaive| L13AverageWtd| L15AverageWtd |\n",
        "|-----------|-------------|---------------|--------------|---------------|\n",
        "|PnL:       |1776.739     |2371.9655      |2116.813      |2208.5385      |\n",
        "\n",
        "L13AverageNaive was the best performer on average, with L12AverageNaive and L15AverageWtd close behind. \n",
        "\n",
        "Unfortunately, due to time constraints, we were only able to run 3 test matches before the Online Tournament 1 submission deadline. In a sample size this small the best model actually appeated to be L12AverageWtd. \n",
        "\n",
        "So the model we used for Online Tournament 1 was L12AverageWtd, with the remaining 17 tests conduction during and after Online Tournament 1.\n"
      ]
    },
    {
      "cell_type": "markdown",
      "metadata": {
        "id": "lSi78vop1YJf",
        "colab_type": "text"
      },
      "source": [
        "### Online Tournament 1 outcomes\n",
        "\n",
        "Seventy-four teams submitted an `autotrader.py` for round 1. The draw\n",
        "consisted of five rounds:\n",
        "\n",
        "Round 1 consisted of 16 matches each with a minimum of 4 and a maximum of\n",
        "5 teams. The best 3 teams from each match proceeded to round 2.\n",
        "Round 2 consisted of 8 matches each with 6 teams. The best 4 teams from\n",
        "each match proceeded to round 3.\n",
        "Round 3 consisted of 4 matches each with 8 teams. The best 4 teams from\n",
        "each match proceeded to round 4.\n",
        "Round 4 consisted of 2 matches each with 8 teams. The best 4 teams from\n",
        "each match proceeded to round 5.\n",
        "\n",
        "* Round 1: matches 1-16\n",
        "* Round 2: matches 17-24\n",
        "* Round 3: matches 25-28\n",
        "* Round 4: matches 29-30\n",
        "* Round 5: match 31\n",
        "\n",
        "Out of the 31 matches, we competed in matches 14, 23, 28 and 30. We were eliminated in match 30. \n",
        "\n",
        "Despite the suboptimal model choice, we still performed relatively well in round one, placing 9th out of 74 teams. \n"
      ]
    },
    {
      "cell_type": "markdown",
      "metadata": {
        "id": "7lJ8G_rpo47M",
        "colab_type": "text"
      },
      "source": [
        "\n",
        "\n",
        "---\n",
        "\n"
      ]
    },
    {
      "cell_type": "markdown",
      "metadata": {
        "id": "ICHMCZo5u41R",
        "colab_type": "text"
      },
      "source": [
        "\n",
        "### Model candidates for Online Tournament 2\n",
        "\n",
        "Studies of competitor behavior from round 1 showed we needed to increase our quote volume significantly, and begin managing inventory with volume. Thus, all models tested in this round were based on the previous rounds best models, with modifications to quote volume. Several iterations of a volume-adjustment algorithm were tested. The bulk of the testing was conducted with versions one and two of this algorithm, running against each other. \n",
        "\n",
        "Version one used a set of if-else conditions to set quote volume, where version two bisected a list (faster).\n",
        "\n",
        "**Example2:** We left Optiver's default model `Example2` in the tests just to see how it compared. \n",
        "\n",
        "**VolumeAdjustN:** This is the same as SymmetricNaive from round 1, but with the added volume adjust algo.\n",
        "\n",
        "**L13AverageWtd:** Exact same model from round one, kept as a comparison.\n",
        "\n",
        "**VolumeAdjustW13:** Same as round one, with added volume adjustment algo.\n",
        "\n",
        "**VolumeAdjustW12:** Same as round one, with added volume adjustment algo.\n",
        "\n",
        "**VolumeAdjustN12:** Same as round one, with added volume adjustment algo.\n",
        "\n",
        "**VolumeAdjustN13:** Same as round one, with added volume adjustment algo.\n",
        "\n",
        "**VolumeAdjustW15:** Same as round one, with added volume adjustment algo.\n",
        "\n"
      ]
    },
    {
      "cell_type": "markdown",
      "metadata": {
        "id": "t40dySh_1eeU",
        "colab_type": "text"
      },
      "source": [
        "### Model selection for Online Tournament 2\n",
        "\n",
        "50 test matches were ran with the above 8 models. Figures shown are the average of 50 matches. Figures were generated by running [this script](https://github.com/s-brez/optiver-hackathon-prep/blob/master/Round%202/testing%20data%20for%20round%202/vol%20algo%20v1%20-%20test%20data%20-%20day%201/aggregate_scoreboard.py) in the [directory containing match events csv files](https://github.com/s-brez/optiver-hackathon-prep/tree/master/Round%202/testing%20data%20for%20round%202/vol%20algo%20v1%20-%20test%20data%20-%20day%201).\n",
        "\n",
        "|    Model|    Example2    |  VolumeAdjustN|L13AverageWtd  |VolumeAdjustW13|\n",
        "|---------|----------------|---------------|---------------|---------------|\n",
        "|PnL:     |38.83           |83.29          |951.08         |3016.63        |\n",
        "\n",
        "|    Model| VolumeAdjustW12|VolumeAdjustN12|VolumeAdjustN13|VolumeAdjustW15|\n",
        "|---------|----------------|---------------|---------------|---------------|\n",
        "|PnL:     |3464.23         |6192.96        |5431.11        |4937.47        |\n",
        "\n",
        "Of 50 test matches, VolumeAdjustN12 was the best performer on average, with VolumeAdjustN13 and VolumeAdjustW15 close behind. Example2 and VolumeAdjustN got absolutely shredded when competing with the speed and volume-improved models.\n",
        "\n",
        "Like in Round 1, due to time constraints, we were only able to run a handful of test matches before the Online Tournament 2 submission deadline. The reduced sample size indicated that the best model was VolumeAdjustW15, not VolumeAdjustN12. So we used VolumeAdjustW15 as the competition submission for round 2.\n",
        "\n",
        "It is also worth mentioning that it was at this point we realised there were 10 different CSV files containing sample data. Until now, we were not aware of this and all testing had been conducted using the `day_1` test data. This means our testing and models were optimised to perform best in the market conditions present in day 1 - not ideal at all. It was too late to do further testing at this stage so we pressed on, but noted that more varied testing would be required in future.\n"
      ]
    },
    {
      "cell_type": "markdown",
      "metadata": {
        "id": "tfEzT4js1fcJ",
        "colab_type": "text"
      },
      "source": [
        "### Online Tournament 2 outcomes\n",
        "\n",
        "Ninety-nine teams submitted an `autotrader.py` for round 2. The draw\n",
        "consisted of five rounds:\n",
        "\n",
        "- Round 1 consisted of 16 matches each with a minimum of 6 and a maximum of 7\n",
        "teams. The best 4 teams from each match proceeded to round 2.\n",
        "- Round 2 consisted of 8 matches each with 8 teams. The best 4 teams from each\n",
        "match proceeded to round 3.\n",
        "- Round 3 consisted of 4 matches each with 8 teams. The best 4 teams from each\n",
        "match proceeded to round 4.\n",
        "- Round 4 consisted of 2 matches each with 8 teams. The best 4 teams from each\n",
        "match proceeded to round 5.\n",
        "- Round 5 (the Final) consisted of 1 match with 8 teams.\n",
        "\n",
        "Out of the 31 matches, we competed in matches 9, 21, 27, 30 and 31. We ranked #4 in the final match, match 31.\n",
        "\n",
        "Despite the suboptimal model choice (...again), we performed well overall in round two, placing 4th out of 74 teams. "
      ]
    },
    {
      "cell_type": "markdown",
      "metadata": {
        "id": "5wE-xFiMo7Ol",
        "colab_type": "text"
      },
      "source": [
        "\n",
        "\n",
        "---\n",
        "\n"
      ]
    },
    {
      "cell_type": "markdown",
      "metadata": {
        "id": "5l_OHjP9u6G9",
        "colab_type": "text"
      },
      "source": [
        "### Model candidates for Online Tournament 3\n",
        "\n",
        "For round three, we took the best models from the previous round, sought to improve the volume adjustment algorithm further, and introduced a few other general improvments for speed. \n",
        "\n",
        "Version three volume adjustment algorithm used a hard-coded dictionary to set quote volumes (dictionary/hashmap being fastest python data structure), and stored any global method references as local variables to save stack lookup times. Version 3 models are denoted with `_3`, and are the same as their version two counterparts, but with volume algo and speed improvements. Version two models are suffixed with `_2`.\n",
        "\n",
        "Analysis of competitor behavior from the past round showed our quotes were often wider than the teams who scored above us, suggesting we could improve or refine our pricing method to quote a tighter spread. At this stage, considering I was working by myself, I decided to just try and improve the models we already had. To develop and test a new pricing method would be a risk, and eat up time I didn't have as a solo participant.\n",
        "\n"
      ]
    },
    {
      "cell_type": "markdown",
      "metadata": {
        "id": "qBfCEZ-rA23Q",
        "colab_type": "text"
      },
      "source": [
        "\n",
        "\n",
        "*OB = orderbook*\n",
        "\n",
        "**VolumeAdjustN15_v2:** Naive avg. of levels 1-5 OB for pricing, version two volume adjust algo, no speed improvements.\n",
        "\n",
        "**VolumeAdjustW12_v2:** Weighted avg. of levels 1-2 OB for pricing, version two volume adjust algo, no speed improvements.\n",
        "\n",
        "**VolumeAdjustN12_v2:** Naive avg. of levels 1-2 OB for pricing, version two volume adjust algo, no speed improvements.\n",
        "\n",
        "**VolumeAdjustN13_v2:** Naive avg. of levels 1-3 OB for pricing, version two volume adjust algo, no speed improvements.\n",
        "\n",
        "**VolumeAdjustN15_v3:** Naive avg. of levels 1-5 OB for pricing, version three volume adjust algo, has speed improvements.\n",
        "\n",
        "**VolumeAdjustW12_v3:** Weighted avg. of levels 1-2 OB for pricing, version three volume adjust algo, has speed improvements.\n",
        "\n",
        "**VolumeAdjustN12_v3:** Naive avg. of levels 1-2 OB for pricing, version three volume adjust algo, has speed improvements.\n",
        "\n",
        "**VolumeAdjustN13_v3:** Naive avg. of levels 1-3 for OB pricing, version three volume adjust algo, has speed improvements."
      ]
    },
    {
      "cell_type": "markdown",
      "metadata": {
        "id": "3O5QBr3n1j2x",
        "colab_type": "text"
      },
      "source": [
        "### Model selection for Online Tournament 3\n",
        "\n",
        "Noting that the testing for the last two rounds was insufficient, round three model testing was conducted using `day_1`, `day_2`, `day_3`, `day_4`, `day_5`, `round_1`, and `round_2` test data. At least 15 matches were run for each set of test data and an average pnl figure taken for each model for each set of test matches. In some cases, there was only time to run six matches, so this will have had an effect on the statistical reliabilty of the numbers below.\n",
        "\n",
        "Average highest scoring model for each test data:\n",
        "\n",
        "- `day_1`: **VolumeAdjustN15_v3** - avg pnl: 4976.57\n",
        "- `day_2`: **VolumeAdjustN15_v3** - avg pnl: 5633.31\n",
        "- `day_3`: **VolumeAdjustN15_v3** - avg pnl: 6416.2\n",
        "- `day_4`: **VolumeAdjustN13_v3** - avg pnl: 8562.09\n",
        "- `day_5`: **VolumeAdjustN13_v2** - avg pnl: 7856.08\n",
        "- `round_1`: **VolumeAdjustN12_v3** - avg pnl: 5744.36\n",
        "- `round_2`: **VolumeAdjustN15_v3** - avg pnl: 5780.34 \n",
        "\n",
        "Of the seven lots of test matches, model VolumeAdjustN15_v3 won the most matches. This suggested that VolumeAdjustN15_v3 was better equipped to deal with more market conditions than the other models. As such VolumeAdjustN15_v3 was our submission for round 3.\n"
      ]
    },
    {
      "cell_type": "markdown",
      "metadata": {
        "id": "W1LKQdry1k_9",
        "colab_type": "text"
      },
      "source": [
        "### Online Tournament 3 outcomes\n",
        "\n",
        "One hundred and one teams submitted an Autotrader for Online Tournament 3. The\n",
        "draw consisted of five rounds:\n",
        "\n",
        "- Round 1 consisted of 16 matches each with a minimum of 6 and a maximum of 7\n",
        "teams. The best 4 teams from each match proceeded to round 2.\n",
        "- Round 2 consisted of 8 matches each with 8 teams. The best 4 teams from each\n",
        "match proceeded to round 3.\n",
        "- Round 3 consisted of 4 matches each with 8 teams. The best 4 teams from each\n",
        "match proceeded to round 4.\n",
        "- Round 4 consisted of 2 matches each with 8 teams. The best 4 teams from each\n",
        "match proceeded to round 5.\n",
        "- Round 5 (the Final) consisted of 1 match with 8 teams.\n",
        "\n",
        "Out of 31 matches, we competed in matches 8, 20, and 26. \n",
        "\n",
        "We were eliminated in match 26, and thus did not make the finals.\n",
        "\n"
      ]
    },
    {
      "cell_type": "markdown",
      "metadata": {
        "id": "qJozlpGho9G5",
        "colab_type": "text"
      },
      "source": [
        "\n",
        "\n",
        "---\n",
        "\n"
      ]
    },
    {
      "cell_type": "markdown",
      "metadata": {
        "id": "lPpAE6AVhx-c",
        "colab_type": "text"
      },
      "source": [
        "## 4 - Competitor Analysis"
      ]
    },
    {
      "cell_type": "markdown",
      "metadata": {
        "id": "TI22Cr-xh7ND",
        "colab_type": "text"
      },
      "source": [
        "### Online Tournament 1 competitor analysis\n",
        "\n",
        "We examined the quoting behaviour of the competitors who scored above us in the highest tier of match we competed in, match 30. Team \"NowUCMe\" was the highest scoring team. We plotted our own quote inserts against their quote inserts against the ETF price over time to determine how they were quoting differently to us, using [this script](https://github.com/s-brez/optiver-hackathon-prep/blob/master/Round%201/results_round_1/visualise_quotes.py).\n",
        "\n",
        "![Round one best competitor quote behavior](https://drive.google.com/uc?export=view&id=19HZID8wywx5zp77Es982PP8xOGRCceo-)\n",
        "\n",
        "When we zoomed in on the plot above, we see that team NowUCMe was managing their postition not by skewing their quotes directionally, but by adjusting the volume of their quotes.\n",
        "\n",
        "![Round one best competitor quote behavior zoomed](https://drive.google.com/uc?export=view&id=1tkHSDGzvLLjE1Xdaxgv5fcH3i3dEuspv)\n",
        "\n",
        "We had been managing inventory by skewing quotes, so this had to change.\n",
        "\n",
        "We also examined NowUCMe's quote volumes by printing their quote inserts and current ETF position, and observing the relationship between the two. [This script](https://github.com/s-brez/optiver-hackathon-prep/blob/master/Round%201/results_round_1/visualise_quotes.py) was used.\n",
        "\n",
        "![Round one competitor quote volumes](https://drive.google.com/uc?export=view&id=1LSOc4PzDa67a435enESP5oobOI-ZT3da)\n",
        "\n",
        "\n",
        "The above confirmed that they were indeed adjusting their position with volume and not by skewing price. It also showed us we needed to significantly increase our quote volumes on average as our default quote volume was 1 lot in either direction.\n"
      ]
    },
    {
      "cell_type": "markdown",
      "metadata": {
        "id": "6f7r2qC1Z0bo",
        "colab_type": "text"
      },
      "source": [
        "\n",
        "\n",
        "---\n",
        "\n"
      ]
    },
    {
      "cell_type": "markdown",
      "metadata": {
        "id": "BQ9e-u5oiATg",
        "colab_type": "text"
      },
      "source": [
        "### Online Tournament 2 best competitor analysis\n",
        "\n",
        "As in round one, We examined the quoting behaviour of the competitors who scored above us in the highest tier of match we competed in, match 31. Team \"TeamJ\" were the best scoring team. \n",
        "\n",
        "We plotted our own quote inserts against their quote inserts against the ETF price over time to determine how they were quoting differently to us, using [this script](https://github.com/s-brez/optiver-hackathon-prep/blob/master/Round%201/results_round_1/visualise_quotes.py).  Please run the script for an interactive, zoomable plot as the resolution here doesnt show the quotes with accuracy.\n",
        "\n",
        "![Round two best competitor quote behavior](https://drive.google.com/uc?export=view&id=1L-63KpM-f4RipKQRRqm0OGomj-_qwFHX)\n",
        "\n",
        "The plot above showed us that again, our quotes are not quite as tight as the competition, despite having adopting the volume-adjusting inventory method previously described. This would suggest a new pricing method is required, to be truly competitive for the next round\n",
        "\n",
        "![Round two best competitor quote behavior zoomed](https://drive.google.com/uc?export=view&id=1z6WdG4V-p_9UVnCEORnzut35SVn6npiJ)\n",
        "\n",
        "Zooming in on the plot reveals another difference between us and TeamJ, there were periods where we were not actually offering quotes, as a result of being at the risk limit (inventory limit).\n",
        "\n",
        "A quick look at the quote-position relationship below shows that TeamJ's quote volume is quite a bit higher on average than anything we saw in the last round, but still not as high as  our laddered quote volume system, and that their bot tries to stay close to flat, not going near the risk limit. This would suggest our volumes were perhaps too high, and that we reached the risk limit too fast when offering quotes, missing chunks of time where we could have profited from the spread.\n",
        "\n",
        "![Round two best competitor quote volumes](https://drive.google.com/uc?export=view&id=1m-5q3JsCB5f5aTr2k6bKjnW0Au3k1R7O)\n"
      ]
    },
    {
      "cell_type": "markdown",
      "metadata": {
        "id": "CRWfp_BTo_9U",
        "colab_type": "text"
      },
      "source": [
        "\n",
        "\n",
        "---\n",
        "\n"
      ]
    },
    {
      "cell_type": "markdown",
      "metadata": {
        "id": "JAU7PAY8nuLr",
        "colab_type": "text"
      },
      "source": [
        "### Online Tournament 2 best competitor analysis\n",
        "\n",
        "No analysis for this round due to early elimination."
      ]
    },
    {
      "cell_type": "markdown",
      "metadata": {
        "id": "8Q9yGFUCokPK",
        "colab_type": "text"
      },
      "source": [
        "## 5 - Conclusions\n",
        "\n",
        "Findings:\n",
        "\n",
        "- Based on analysis of the better performing bots, we can safely say that the ideal method to manage inventory (current position) is through adjusting quote volume, and not skewing quote prices.\n",
        "\n",
        "- Being at the inventory limit for periods of time is detrimental to our market-making behaviour overall, with spread-taking opportunties missed due to an inability to quote.\n",
        "\n",
        "- We were not able to idenftify a stronger performing theoretical pricing method than a simple naive average of levels 1-5 of the orderbook, though competitor analysis implies there are certainly better methods. \n",
        "\n",
        "\n",
        "What we would do different next time:\n",
        "\n",
        "- For testing, use a cloud vps service to spin up a few dozen individual instances to run many simultaneous test matches. Testing was a major bottleneck, given I was one person working on two machines.\n",
        "\n",
        "- Pay more attention to competitor behaviour at earlier stages. I.e, it was clear that our pricing method was not quite good enough after round 2, but I chose not to improve due to time/manpower constraints.\n",
        "\n",
        "- Recruit more teammates!\n"
      ]
    }
  ]
}